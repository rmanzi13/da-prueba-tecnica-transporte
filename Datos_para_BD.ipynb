{
  "nbformat": 4,
  "nbformat_minor": 0,
  "metadata": {
    "colab": {
      "provenance": []
    },
    "kernelspec": {
      "name": "python3",
      "display_name": "Python 3"
    },
    "language_info": {
      "name": "python"
    }
  },
  "cells": [
    {
      "cell_type": "code",
      "execution_count": null,
      "metadata": {
        "id": "kbPIS77zGNv_"
      },
      "outputs": [],
      "source": [
        "import numpy as np\n",
        "import matplotlib.pyplot as plt\n",
        "%matplotlib inline\n",
        "import seaborn as sns\n",
        "import pandas as pd"
      ]
    },
    {
      "cell_type": "code",
      "source": [
        "# Cargamos los datos\n",
        "file_path = '/content/Transporte_Publico_Espana.csv'\n",
        "data = pd.read_csv(file_path)\n",
        "\n",
        "# Vemos las priemras filas para entender su estructura\n",
        "data.head()"
      ],
      "metadata": {
        "colab": {
          "base_uri": "https://localhost:8080/",
          "height": 206
        },
        "id": "sLhCbc4KG7kH",
        "outputId": "f8889872-ee14-40a2-c515-21efefc1aed9"
      },
      "execution_count": null,
      "outputs": [
        {
          "output_type": "execute_result",
          "data": {
            "text/plain": [
              "   ID_Viaje                Fecha                Ruta  Numero_Pasajeros  \\\n",
              "0         1  2023-01-01 00:00:00  Barcelona - Bilbao               NaN   \n",
              "1         2  2023-01-01 00:01:00    Malaga - Sevilla              99.0   \n",
              "2         3  2023-01-01 00:02:00   Madrid - Zaragoza              10.0   \n",
              "3         4  2023-01-01 00:03:00    Sevilla - Madrid              96.0   \n",
              "4         5  2023-01-01 00:04:00     Madrid - Malaga              22.0   \n",
              "\n",
              "  Duracion_Viaje_Minutos  Retraso_Minutos Tipo_Transporte     Region  \\\n",
              "0          not_available              999         Tranvía    Sevilla   \n",
              "1                  192.0               58            Tren  Barcelona   \n",
              "2                   94.0              119         Autobús     Madrid   \n",
              "3                  650.0                2           Metro     Malaga   \n",
              "4                  335.0               51         Autobús    Sevilla   \n",
              "\n",
              "  Dia_Semana  \n",
              "0     Sunday  \n",
              "1     Sunday  \n",
              "2     Sunday  \n",
              "3     Sunday  \n",
              "4     Sunday  "
            ],
            "text/html": [
              "\n",
              "  <div id=\"df-e3ed2b09-93b0-49f3-89bc-481cb16388d1\" class=\"colab-df-container\">\n",
              "    <div>\n",
              "<style scoped>\n",
              "    .dataframe tbody tr th:only-of-type {\n",
              "        vertical-align: middle;\n",
              "    }\n",
              "\n",
              "    .dataframe tbody tr th {\n",
              "        vertical-align: top;\n",
              "    }\n",
              "\n",
              "    .dataframe thead th {\n",
              "        text-align: right;\n",
              "    }\n",
              "</style>\n",
              "<table border=\"1\" class=\"dataframe\">\n",
              "  <thead>\n",
              "    <tr style=\"text-align: right;\">\n",
              "      <th></th>\n",
              "      <th>ID_Viaje</th>\n",
              "      <th>Fecha</th>\n",
              "      <th>Ruta</th>\n",
              "      <th>Numero_Pasajeros</th>\n",
              "      <th>Duracion_Viaje_Minutos</th>\n",
              "      <th>Retraso_Minutos</th>\n",
              "      <th>Tipo_Transporte</th>\n",
              "      <th>Region</th>\n",
              "      <th>Dia_Semana</th>\n",
              "    </tr>\n",
              "  </thead>\n",
              "  <tbody>\n",
              "    <tr>\n",
              "      <th>0</th>\n",
              "      <td>1</td>\n",
              "      <td>2023-01-01 00:00:00</td>\n",
              "      <td>Barcelona - Bilbao</td>\n",
              "      <td>NaN</td>\n",
              "      <td>not_available</td>\n",
              "      <td>999</td>\n",
              "      <td>Tranvía</td>\n",
              "      <td>Sevilla</td>\n",
              "      <td>Sunday</td>\n",
              "    </tr>\n",
              "    <tr>\n",
              "      <th>1</th>\n",
              "      <td>2</td>\n",
              "      <td>2023-01-01 00:01:00</td>\n",
              "      <td>Malaga - Sevilla</td>\n",
              "      <td>99.0</td>\n",
              "      <td>192.0</td>\n",
              "      <td>58</td>\n",
              "      <td>Tren</td>\n",
              "      <td>Barcelona</td>\n",
              "      <td>Sunday</td>\n",
              "    </tr>\n",
              "    <tr>\n",
              "      <th>2</th>\n",
              "      <td>3</td>\n",
              "      <td>2023-01-01 00:02:00</td>\n",
              "      <td>Madrid - Zaragoza</td>\n",
              "      <td>10.0</td>\n",
              "      <td>94.0</td>\n",
              "      <td>119</td>\n",
              "      <td>Autobús</td>\n",
              "      <td>Madrid</td>\n",
              "      <td>Sunday</td>\n",
              "    </tr>\n",
              "    <tr>\n",
              "      <th>3</th>\n",
              "      <td>4</td>\n",
              "      <td>2023-01-01 00:03:00</td>\n",
              "      <td>Sevilla - Madrid</td>\n",
              "      <td>96.0</td>\n",
              "      <td>650.0</td>\n",
              "      <td>2</td>\n",
              "      <td>Metro</td>\n",
              "      <td>Malaga</td>\n",
              "      <td>Sunday</td>\n",
              "    </tr>\n",
              "    <tr>\n",
              "      <th>4</th>\n",
              "      <td>5</td>\n",
              "      <td>2023-01-01 00:04:00</td>\n",
              "      <td>Madrid - Malaga</td>\n",
              "      <td>22.0</td>\n",
              "      <td>335.0</td>\n",
              "      <td>51</td>\n",
              "      <td>Autobús</td>\n",
              "      <td>Sevilla</td>\n",
              "      <td>Sunday</td>\n",
              "    </tr>\n",
              "  </tbody>\n",
              "</table>\n",
              "</div>\n",
              "    <div class=\"colab-df-buttons\">\n",
              "\n",
              "  <div class=\"colab-df-container\">\n",
              "    <button class=\"colab-df-convert\" onclick=\"convertToInteractive('df-e3ed2b09-93b0-49f3-89bc-481cb16388d1')\"\n",
              "            title=\"Convert this dataframe to an interactive table.\"\n",
              "            style=\"display:none;\">\n",
              "\n",
              "  <svg xmlns=\"http://www.w3.org/2000/svg\" height=\"24px\" viewBox=\"0 -960 960 960\">\n",
              "    <path d=\"M120-120v-720h720v720H120Zm60-500h600v-160H180v160Zm220 220h160v-160H400v160Zm0 220h160v-160H400v160ZM180-400h160v-160H180v160Zm440 0h160v-160H620v160ZM180-180h160v-160H180v160Zm440 0h160v-160H620v160Z\"/>\n",
              "  </svg>\n",
              "    </button>\n",
              "\n",
              "  <style>\n",
              "    .colab-df-container {\n",
              "      display:flex;\n",
              "      gap: 12px;\n",
              "    }\n",
              "\n",
              "    .colab-df-convert {\n",
              "      background-color: #E8F0FE;\n",
              "      border: none;\n",
              "      border-radius: 50%;\n",
              "      cursor: pointer;\n",
              "      display: none;\n",
              "      fill: #1967D2;\n",
              "      height: 32px;\n",
              "      padding: 0 0 0 0;\n",
              "      width: 32px;\n",
              "    }\n",
              "\n",
              "    .colab-df-convert:hover {\n",
              "      background-color: #E2EBFA;\n",
              "      box-shadow: 0px 1px 2px rgba(60, 64, 67, 0.3), 0px 1px 3px 1px rgba(60, 64, 67, 0.15);\n",
              "      fill: #174EA6;\n",
              "    }\n",
              "\n",
              "    .colab-df-buttons div {\n",
              "      margin-bottom: 4px;\n",
              "    }\n",
              "\n",
              "    [theme=dark] .colab-df-convert {\n",
              "      background-color: #3B4455;\n",
              "      fill: #D2E3FC;\n",
              "    }\n",
              "\n",
              "    [theme=dark] .colab-df-convert:hover {\n",
              "      background-color: #434B5C;\n",
              "      box-shadow: 0px 1px 3px 1px rgba(0, 0, 0, 0.15);\n",
              "      filter: drop-shadow(0px 1px 2px rgba(0, 0, 0, 0.3));\n",
              "      fill: #FFFFFF;\n",
              "    }\n",
              "  </style>\n",
              "\n",
              "    <script>\n",
              "      const buttonEl =\n",
              "        document.querySelector('#df-e3ed2b09-93b0-49f3-89bc-481cb16388d1 button.colab-df-convert');\n",
              "      buttonEl.style.display =\n",
              "        google.colab.kernel.accessAllowed ? 'block' : 'none';\n",
              "\n",
              "      async function convertToInteractive(key) {\n",
              "        const element = document.querySelector('#df-e3ed2b09-93b0-49f3-89bc-481cb16388d1');\n",
              "        const dataTable =\n",
              "          await google.colab.kernel.invokeFunction('convertToInteractive',\n",
              "                                                    [key], {});\n",
              "        if (!dataTable) return;\n",
              "\n",
              "        const docLinkHtml = 'Like what you see? Visit the ' +\n",
              "          '<a target=\"_blank\" href=https://colab.research.google.com/notebooks/data_table.ipynb>data table notebook</a>'\n",
              "          + ' to learn more about interactive tables.';\n",
              "        element.innerHTML = '';\n",
              "        dataTable['output_type'] = 'display_data';\n",
              "        await google.colab.output.renderOutput(dataTable, element);\n",
              "        const docLink = document.createElement('div');\n",
              "        docLink.innerHTML = docLinkHtml;\n",
              "        element.appendChild(docLink);\n",
              "      }\n",
              "    </script>\n",
              "  </div>\n",
              "\n",
              "\n",
              "<div id=\"df-dca822ea-5644-4576-87b1-80dba0b041c1\">\n",
              "  <button class=\"colab-df-quickchart\" onclick=\"quickchart('df-dca822ea-5644-4576-87b1-80dba0b041c1')\"\n",
              "            title=\"Suggest charts\"\n",
              "            style=\"display:none;\">\n",
              "\n",
              "<svg xmlns=\"http://www.w3.org/2000/svg\" height=\"24px\"viewBox=\"0 0 24 24\"\n",
              "     width=\"24px\">\n",
              "    <g>\n",
              "        <path d=\"M19 3H5c-1.1 0-2 .9-2 2v14c0 1.1.9 2 2 2h14c1.1 0 2-.9 2-2V5c0-1.1-.9-2-2-2zM9 17H7v-7h2v7zm4 0h-2V7h2v10zm4 0h-2v-4h2v4z\"/>\n",
              "    </g>\n",
              "</svg>\n",
              "  </button>\n",
              "\n",
              "<style>\n",
              "  .colab-df-quickchart {\n",
              "      --bg-color: #E8F0FE;\n",
              "      --fill-color: #1967D2;\n",
              "      --hover-bg-color: #E2EBFA;\n",
              "      --hover-fill-color: #174EA6;\n",
              "      --disabled-fill-color: #AAA;\n",
              "      --disabled-bg-color: #DDD;\n",
              "  }\n",
              "\n",
              "  [theme=dark] .colab-df-quickchart {\n",
              "      --bg-color: #3B4455;\n",
              "      --fill-color: #D2E3FC;\n",
              "      --hover-bg-color: #434B5C;\n",
              "      --hover-fill-color: #FFFFFF;\n",
              "      --disabled-bg-color: #3B4455;\n",
              "      --disabled-fill-color: #666;\n",
              "  }\n",
              "\n",
              "  .colab-df-quickchart {\n",
              "    background-color: var(--bg-color);\n",
              "    border: none;\n",
              "    border-radius: 50%;\n",
              "    cursor: pointer;\n",
              "    display: none;\n",
              "    fill: var(--fill-color);\n",
              "    height: 32px;\n",
              "    padding: 0;\n",
              "    width: 32px;\n",
              "  }\n",
              "\n",
              "  .colab-df-quickchart:hover {\n",
              "    background-color: var(--hover-bg-color);\n",
              "    box-shadow: 0 1px 2px rgba(60, 64, 67, 0.3), 0 1px 3px 1px rgba(60, 64, 67, 0.15);\n",
              "    fill: var(--button-hover-fill-color);\n",
              "  }\n",
              "\n",
              "  .colab-df-quickchart-complete:disabled,\n",
              "  .colab-df-quickchart-complete:disabled:hover {\n",
              "    background-color: var(--disabled-bg-color);\n",
              "    fill: var(--disabled-fill-color);\n",
              "    box-shadow: none;\n",
              "  }\n",
              "\n",
              "  .colab-df-spinner {\n",
              "    border: 2px solid var(--fill-color);\n",
              "    border-color: transparent;\n",
              "    border-bottom-color: var(--fill-color);\n",
              "    animation:\n",
              "      spin 1s steps(1) infinite;\n",
              "  }\n",
              "\n",
              "  @keyframes spin {\n",
              "    0% {\n",
              "      border-color: transparent;\n",
              "      border-bottom-color: var(--fill-color);\n",
              "      border-left-color: var(--fill-color);\n",
              "    }\n",
              "    20% {\n",
              "      border-color: transparent;\n",
              "      border-left-color: var(--fill-color);\n",
              "      border-top-color: var(--fill-color);\n",
              "    }\n",
              "    30% {\n",
              "      border-color: transparent;\n",
              "      border-left-color: var(--fill-color);\n",
              "      border-top-color: var(--fill-color);\n",
              "      border-right-color: var(--fill-color);\n",
              "    }\n",
              "    40% {\n",
              "      border-color: transparent;\n",
              "      border-right-color: var(--fill-color);\n",
              "      border-top-color: var(--fill-color);\n",
              "    }\n",
              "    60% {\n",
              "      border-color: transparent;\n",
              "      border-right-color: var(--fill-color);\n",
              "    }\n",
              "    80% {\n",
              "      border-color: transparent;\n",
              "      border-right-color: var(--fill-color);\n",
              "      border-bottom-color: var(--fill-color);\n",
              "    }\n",
              "    90% {\n",
              "      border-color: transparent;\n",
              "      border-bottom-color: var(--fill-color);\n",
              "    }\n",
              "  }\n",
              "</style>\n",
              "\n",
              "  <script>\n",
              "    async function quickchart(key) {\n",
              "      const quickchartButtonEl =\n",
              "        document.querySelector('#' + key + ' button');\n",
              "      quickchartButtonEl.disabled = true;  // To prevent multiple clicks.\n",
              "      quickchartButtonEl.classList.add('colab-df-spinner');\n",
              "      try {\n",
              "        const charts = await google.colab.kernel.invokeFunction(\n",
              "            'suggestCharts', [key], {});\n",
              "      } catch (error) {\n",
              "        console.error('Error during call to suggestCharts:', error);\n",
              "      }\n",
              "      quickchartButtonEl.classList.remove('colab-df-spinner');\n",
              "      quickchartButtonEl.classList.add('colab-df-quickchart-complete');\n",
              "    }\n",
              "    (() => {\n",
              "      let quickchartButtonEl =\n",
              "        document.querySelector('#df-dca822ea-5644-4576-87b1-80dba0b041c1 button');\n",
              "      quickchartButtonEl.style.display =\n",
              "        google.colab.kernel.accessAllowed ? 'block' : 'none';\n",
              "    })();\n",
              "  </script>\n",
              "</div>\n",
              "\n",
              "    </div>\n",
              "  </div>\n"
            ],
            "application/vnd.google.colaboratory.intrinsic+json": {
              "type": "dataframe",
              "variable_name": "data"
            }
          },
          "metadata": {},
          "execution_count": 2
        }
      ]
    },
    {
      "cell_type": "code",
      "source": [
        "data.info()"
      ],
      "metadata": {
        "colab": {
          "base_uri": "https://localhost:8080/"
        },
        "id": "Clzcg8WcHEhW",
        "outputId": "e5923a76-ea57-4c64-b042-360320455922"
      },
      "execution_count": null,
      "outputs": [
        {
          "output_type": "stream",
          "name": "stdout",
          "text": [
            "<class 'pandas.core.frame.DataFrame'>\n",
            "RangeIndex: 100100 entries, 0 to 100099\n",
            "Data columns (total 9 columns):\n",
            " #   Column                  Non-Null Count   Dtype  \n",
            "---  ------                  --------------   -----  \n",
            " 0   ID_Viaje                100100 non-null  int64  \n",
            " 1   Fecha                   100100 non-null  object \n",
            " 2   Ruta                    100100 non-null  object \n",
            " 3   Numero_Pasajeros        99099 non-null   float64\n",
            " 4   Duracion_Viaje_Minutos  99767 non-null   object \n",
            " 5   Retraso_Minutos         100100 non-null  int64  \n",
            " 6   Tipo_Transporte         100100 non-null  object \n",
            " 7   Region                  100100 non-null  object \n",
            " 8   Dia_Semana              100100 non-null  object \n",
            "dtypes: float64(1), int64(2), object(6)\n",
            "memory usage: 6.9+ MB\n"
          ]
        }
      ]
    },
    {
      "cell_type": "markdown",
      "source": [
        "# Paso 1: Revisión de Duplicados"
      ],
      "metadata": {
        "id": "Ti9banFxHQOX"
      }
    },
    {
      "cell_type": "code",
      "source": [
        "# Verificando duplicados\n",
        "duplicados = data.duplicated().sum()\n",
        "duplicados"
      ],
      "metadata": {
        "colab": {
          "base_uri": "https://localhost:8080/"
        },
        "id": "8Z0HPxtNHWFv",
        "outputId": "2303ff6e-73cc-4f9c-8611-915b3da915ec"
      },
      "execution_count": null,
      "outputs": [
        {
          "output_type": "execute_result",
          "data": {
            "text/plain": [
              "100"
            ]
          },
          "metadata": {},
          "execution_count": 4
        }
      ]
    },
    {
      "cell_type": "code",
      "source": [
        "# Eliminando los duplicados\n",
        "data_sin_duplicados = data.drop_duplicates()"
      ],
      "metadata": {
        "id": "CxWkEVn8HgMI"
      },
      "execution_count": null,
      "outputs": []
    },
    {
      "cell_type": "code",
      "source": [
        "# Verificando cuántos duplicados quedan después de la eliminación\n",
        "duplicados_finales = data_sin_duplicados.duplicated().sum()\n",
        "print(f\"Duplicados finales: {duplicados_finales}\")"
      ],
      "metadata": {
        "colab": {
          "base_uri": "https://localhost:8080/"
        },
        "id": "826UvgxFHrMe",
        "outputId": "36b7d289-45e3-4c43-b068-902f8a709550"
      },
      "execution_count": null,
      "outputs": [
        {
          "output_type": "stream",
          "name": "stdout",
          "text": [
            "Duplicados finales: 0\n"
          ]
        }
      ]
    },
    {
      "cell_type": "code",
      "source": [
        "data_sin_duplicados.info()"
      ],
      "metadata": {
        "colab": {
          "base_uri": "https://localhost:8080/"
        },
        "id": "oQPzDdTpHvK2",
        "outputId": "0f2f6d91-0ce4-4b37-af76-932d12eadf18"
      },
      "execution_count": null,
      "outputs": [
        {
          "output_type": "stream",
          "name": "stdout",
          "text": [
            "<class 'pandas.core.frame.DataFrame'>\n",
            "Index: 100000 entries, 0 to 99999\n",
            "Data columns (total 9 columns):\n",
            " #   Column                  Non-Null Count   Dtype  \n",
            "---  ------                  --------------   -----  \n",
            " 0   ID_Viaje                100000 non-null  int64  \n",
            " 1   Fecha                   100000 non-null  object \n",
            " 2   Ruta                    100000 non-null  object \n",
            " 3   Numero_Pasajeros        99000 non-null   float64\n",
            " 4   Duracion_Viaje_Minutos  99667 non-null   object \n",
            " 5   Retraso_Minutos         100000 non-null  int64  \n",
            " 6   Tipo_Transporte         100000 non-null  object \n",
            " 7   Region                  100000 non-null  object \n",
            " 8   Dia_Semana              100000 non-null  object \n",
            "dtypes: float64(1), int64(2), object(6)\n",
            "memory usage: 7.6+ MB\n"
          ]
        }
      ]
    },
    {
      "cell_type": "markdown",
      "source": [
        "# Paso 2: Revisión de tipos de datos y datos faltantes"
      ],
      "metadata": {
        "id": "aaF-baIzH1pG"
      }
    },
    {
      "cell_type": "code",
      "source": [
        "# tipos de datos\n",
        "tipos_de_datos = data.dtypes\n",
        "tipos_de_datos"
      ],
      "metadata": {
        "colab": {
          "base_uri": "https://localhost:8080/"
        },
        "id": "n5x7-a5cH30W",
        "outputId": "744611c6-7427-487e-e191-dc392b47ba3c"
      },
      "execution_count": null,
      "outputs": [
        {
          "output_type": "execute_result",
          "data": {
            "text/plain": [
              "ID_Viaje                    int64\n",
              "Fecha                      object\n",
              "Ruta                       object\n",
              "Numero_Pasajeros          float64\n",
              "Duracion_Viaje_Minutos     object\n",
              "Retraso_Minutos             int64\n",
              "Tipo_Transporte            object\n",
              "Region                     object\n",
              "Dia_Semana                 object\n",
              "dtype: object"
            ]
          },
          "metadata": {},
          "execution_count": 8
        }
      ]
    },
    {
      "cell_type": "code",
      "source": [
        "# Verificando valores faltantes\n",
        "valores_faltantes = data.isnull().sum()\n",
        "valores_faltantes"
      ],
      "metadata": {
        "colab": {
          "base_uri": "https://localhost:8080/"
        },
        "id": "MT77RfBUIByV",
        "outputId": "2c49ab8d-f718-4078-acfb-e5191a24271b"
      },
      "execution_count": null,
      "outputs": [
        {
          "output_type": "execute_result",
          "data": {
            "text/plain": [
              "ID_Viaje                     0\n",
              "Fecha                        0\n",
              "Ruta                         0\n",
              "Numero_Pasajeros          1001\n",
              "Duracion_Viaje_Minutos     333\n",
              "Retraso_Minutos              0\n",
              "Tipo_Transporte              0\n",
              "Region                       0\n",
              "Dia_Semana                   0\n",
              "dtype: int64"
            ]
          },
          "metadata": {},
          "execution_count": 9
        }
      ]
    },
    {
      "cell_type": "code",
      "source": [
        "# Asegurando que la columna Duracion_Viaje_Minutos sea de tipo float\n",
        "data_sin_duplicados.loc[:,'Duracion_Viaje_Minutos'] = pd.to_numeric(data_sin_duplicados['Duracion_Viaje_Minutos'], errors='coerce')"
      ],
      "metadata": {
        "id": "xxnO3h1zINfd"
      },
      "execution_count": null,
      "outputs": []
    },
    {
      "cell_type": "code",
      "source": [
        "# Calculando la mediana de las columnas con valores faltantes\n",
        "mediana_numero_pasajeros = data_sin_duplicados['Numero_Pasajeros'].median()\n",
        "mediana_duracion_viaje_minutos = data_sin_duplicados['Duracion_Viaje_Minutos'].median()"
      ],
      "metadata": {
        "id": "Luof7rTEJBJH"
      },
      "execution_count": null,
      "outputs": []
    },
    {
      "cell_type": "code",
      "source": [
        "# Rellenando los valores faltantes con la mediana\n",
        "data_sin_duplicados.loc[:,'Numero_Pasajeros'] = data_sin_duplicados['Numero_Pasajeros'].fillna(mediana_numero_pasajeros)\n",
        "data_sin_duplicados.loc[:,'Duracion_Viaje_Minutos'] = data_sin_duplicados['Duracion_Viaje_Minutos'].fillna(mediana_duracion_viaje_minutos)"
      ],
      "metadata": {
        "id": "yYCdGBfrJK1d"
      },
      "execution_count": null,
      "outputs": []
    },
    {
      "cell_type": "code",
      "source": [
        "# Verificar que no haya valores faltantes\n",
        "valores_faltantes_despues = data_sin_duplicados.isnull().sum()\n",
        "print(valores_faltantes_despues)"
      ],
      "metadata": {
        "colab": {
          "base_uri": "https://localhost:8080/"
        },
        "id": "IekZoxL6Kpl8",
        "outputId": "e57747b7-571b-475b-af28-95b756257deb"
      },
      "execution_count": null,
      "outputs": [
        {
          "output_type": "stream",
          "name": "stdout",
          "text": [
            "ID_Viaje                  0\n",
            "Fecha                     0\n",
            "Ruta                      0\n",
            "Numero_Pasajeros          0\n",
            "Duracion_Viaje_Minutos    0\n",
            "Retraso_Minutos           0\n",
            "Tipo_Transporte           0\n",
            "Region                    0\n",
            "Dia_Semana                0\n",
            "dtype: int64\n"
          ]
        }
      ]
    },
    {
      "cell_type": "code",
      "source": [
        "# Convertiendo fecha a datetime\n",
        "data_sin_duplicados.loc[:,'Fecha'] = pd.to_datetime(data_sin_duplicados['Fecha'], format='%Y-%m-%d %H:%M:%S')"
      ],
      "metadata": {
        "id": "xh6lAX6xKuBH"
      },
      "execution_count": null,
      "outputs": []
    },
    {
      "cell_type": "code",
      "source": [
        "data_sin_duplicados.info()"
      ],
      "metadata": {
        "colab": {
          "base_uri": "https://localhost:8080/"
        },
        "id": "c_npm8Z3IguF",
        "outputId": "015cf246-224f-47c5-dbea-6a891a76fab3"
      },
      "execution_count": null,
      "outputs": [
        {
          "output_type": "stream",
          "name": "stdout",
          "text": [
            "<class 'pandas.core.frame.DataFrame'>\n",
            "Index: 100000 entries, 0 to 99999\n",
            "Data columns (total 9 columns):\n",
            " #   Column                  Non-Null Count   Dtype         \n",
            "---  ------                  --------------   -----         \n",
            " 0   ID_Viaje                100000 non-null  int64         \n",
            " 1   Fecha                   100000 non-null  datetime64[ns]\n",
            " 2   Ruta                    100000 non-null  object        \n",
            " 3   Numero_Pasajeros        100000 non-null  float64       \n",
            " 4   Duracion_Viaje_Minutos  100000 non-null  float64       \n",
            " 5   Retraso_Minutos         100000 non-null  int64         \n",
            " 6   Tipo_Transporte         100000 non-null  object        \n",
            " 7   Region                  100000 non-null  object        \n",
            " 8   Dia_Semana              100000 non-null  object        \n",
            "dtypes: datetime64[ns](1), float64(2), int64(2), object(4)\n",
            "memory usage: 7.6+ MB\n"
          ]
        }
      ]
    },
    {
      "cell_type": "markdown",
      "source": [
        "# Paso 3: Filtramos Tipo de Transporte Inviables"
      ],
      "metadata": {
        "id": "4cH25Qx5LLG0"
      }
    },
    {
      "cell_type": "code",
      "source": [
        "# Filtrando los tipos de transporte inviables ('Tranvía' y 'Metro')\n",
        "transportes_inviables = ['Tranvía', 'Metro']\n",
        "data_filtrada = data_sin_duplicados[~data_sin_duplicados['Tipo_Transporte'].isin(transportes_inviables)]"
      ],
      "metadata": {
        "id": "t6Yf8JVyLM_0"
      },
      "execution_count": null,
      "outputs": []
    },
    {
      "cell_type": "code",
      "source": [
        "# Mostrando un resumen de los datos filtrados para verificar\n",
        "resumen_transporte = data_filtrada['Tipo_Transporte'].value_counts()\n",
        "print(resumen_transporte)"
      ],
      "metadata": {
        "colab": {
          "base_uri": "https://localhost:8080/"
        },
        "id": "opmKJDUxLZzk",
        "outputId": "ee22eaec-c861-48d4-972d-2cac74482f3c"
      },
      "execution_count": null,
      "outputs": [
        {
          "output_type": "stream",
          "name": "stdout",
          "text": [
            "Tipo_Transporte\n",
            "Autobús    25050\n",
            "Tren       24954\n",
            "Name: count, dtype: int64\n"
          ]
        }
      ]
    },
    {
      "cell_type": "code",
      "source": [
        "data_filtrada.info()"
      ],
      "metadata": {
        "colab": {
          "base_uri": "https://localhost:8080/"
        },
        "id": "f0l-w0RFL1JU",
        "outputId": "057db624-777e-4eab-9d9a-d98b788b8044"
      },
      "execution_count": null,
      "outputs": [
        {
          "output_type": "stream",
          "name": "stdout",
          "text": [
            "<class 'pandas.core.frame.DataFrame'>\n",
            "Index: 50004 entries, 1 to 99997\n",
            "Data columns (total 9 columns):\n",
            " #   Column                  Non-Null Count  Dtype         \n",
            "---  ------                  --------------  -----         \n",
            " 0   ID_Viaje                50004 non-null  int64         \n",
            " 1   Fecha                   50004 non-null  datetime64[ns]\n",
            " 2   Ruta                    50004 non-null  object        \n",
            " 3   Numero_Pasajeros        50004 non-null  float64       \n",
            " 4   Duracion_Viaje_Minutos  50004 non-null  float64       \n",
            " 5   Retraso_Minutos         50004 non-null  int64         \n",
            " 6   Tipo_Transporte         50004 non-null  object        \n",
            " 7   Region                  50004 non-null  object        \n",
            " 8   Dia_Semana              50004 non-null  object        \n",
            "dtypes: datetime64[ns](1), float64(2), int64(2), object(4)\n",
            "memory usage: 3.8+ MB\n"
          ]
        }
      ]
    },
    {
      "cell_type": "code",
      "source": [
        "# Guardando el DataFrame en un archivo CSV\n",
        "file_path = '/content/Datos_Filtrados.csv'\n",
        "data_filtrada.to_csv(file_path, index=False)"
      ],
      "metadata": {
        "id": "WdW17AfKMDd8"
      },
      "execution_count": null,
      "outputs": []
    },
    {
      "cell_type": "code",
      "source": [],
      "metadata": {
        "id": "Mj2N1nhSiQJU"
      },
      "execution_count": null,
      "outputs": []
    }
  ]
}